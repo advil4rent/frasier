{
 "cells": [
  {
   "cell_type": "code",
   "execution_count": 1,
   "id": "14047e5d",
   "metadata": {},
   "outputs": [],
   "source": [
    "import numpy as np\n",
    "import matplotlib.pyplot as plt\n",
    "from ipywidgets import *"
   ]
  },
  {
   "cell_type": "code",
   "execution_count": 2,
   "id": "2f14fdd1",
   "metadata": {},
   "outputs": [],
   "source": [
    "# no. of stimuli x2 for not-stimuli as well\n",
    "nf = 2*2\n",
    "stim = {\n",
    "    0:\"X\",\n",
    "    1:\"Y\",\n",
    "    2:\"NotX\",\n",
    "    3:\"NotY\"\n",
    "}\n",
    "# variables\n",
    "dt = 0.1\n",
    "A = np.arange(0,1,0.2)\n",
    "a = 0.8"
   ]
  },
  {
   "cell_type": "code",
   "execution_count": 3,
   "id": "712575fc",
   "metadata": {},
   "outputs": [],
   "source": [
    "#generate a range of s and tau_star\n",
    "def s_gen(tau_min=1, tau_max=100., buff_max=None, k=20, ntau=40, g=0.0):\n",
    "    c = (tau_max/tau_min)**(1./(ntau-1))-1\n",
    "    tau_star = tau_min*(1+c)**np.arange(ntau).astype(float)\n",
    "    s = 1/tau_star\n",
    "    return [tau_star, s]\n",
    "[tau_star, S] = s_gen()"
   ]
  },
  {
   "cell_type": "code",
   "execution_count": 4,
   "id": "29ce7319",
   "metadata": {},
   "outputs": [
    {
     "data": {
      "text/plain": [
       "array([1.        , 0.88862382, 0.78965229, 0.70170383, 0.62355073,\n",
       "       0.55410203, 0.49238826, 0.43754794, 0.38881552, 0.34551073,\n",
       "       0.30702906, 0.27283334, 0.2424462 , 0.21544347, 0.1914482 ,\n",
       "       0.17012543, 0.15117751, 0.13433993, 0.11937766, 0.10608184,\n",
       "       0.09426685, 0.08376776, 0.07443803, 0.06614741, 0.05878016,\n",
       "       0.05223345, 0.04641589, 0.04124626, 0.03665241, 0.03257021,\n",
       "       0.02894266, 0.02571914, 0.02285464, 0.02030918, 0.01804722,\n",
       "       0.01603719, 0.01425103, 0.0126638 , 0.01125336, 0.01      ])"
      ]
     },
     "execution_count": 4,
     "metadata": {},
     "output_type": "execute_result"
    }
   ],
   "source": [
    "S"
   ]
  },
  {
   "cell_type": "code",
   "execution_count": 5,
   "id": "9666b01f",
   "metadata": {},
   "outputs": [],
   "source": [
    "def stim_gen(i):\n",
    "    global nf\n",
    "    stim_vec = np.zeros(nf)\n",
    "    if i is not None:\n",
    "        stim_vec[i] = 1\n",
    "    return stim_vec"
   ]
  },
  {
   "cell_type": "code",
   "execution_count": 6,
   "id": "7a7f0f58",
   "metadata": {},
   "outputs": [],
   "source": [
    "def input_update(a,s,s_idx,fi_IN: None):\n",
    "    global M\n",
    "    global F\n",
    "    global P\n",
    "    #if fi_IN is not None:\n",
    "        #print(\"Inputing stim\", stim[fi_IN])\n",
    "    f_IN = stim_gen(fi_IN)\n",
    "    #eq 1\n",
    "    F[s_idx] += -s*F[s_idx] + f_IN\n",
    "    F[s_idx] = np.where(F[s_idx]<0, 0, F[s_idx])\n",
    "    #eq 2\n",
    "    P_IN = np.dot(M[s_idx], f_IN)\n",
    "    #eq 3\n",
    "    P[s_idx] +=  s*P[s_idx] + P_IN - P[0]\n",
    "    P[s_idx] = np.where(P[s_idx]<0, 0, P[s_idx])\n",
    "    #find stimulis from the past that are still active & update associations\n",
    "    if fi_IN is not None:\n",
    "        for past_stim in np.flatnonzero(F[s_idx]):\n",
    "            #Avoiding self-prediction updates\n",
    "            if past_stim != fi_IN:\n",
    "                #eq4 - make sure we're indexing M correctly\n",
    "                M[s_idx][fi_IN, past_stim] = a * M[s_idx][fi_IN, past_stim] + (1-a) * F[s_idx][past_stim]\n",
    "def detect_notstim(a,t,s,s_idx,fi_IN:None):\n",
    "    global M\n",
    "    global F\n",
    "    global P\n",
    "    predicted = np.where(P[s_idx]>=1)[0]\n",
    "    #iterate through them\n",
    "    for p in predicted:\n",
    "        if p == fi_IN:\n",
    "            print(stim[p], \"Observed & Predicted with p=%s! at at s=%s and t=%s\"\n",
    "                  %(P[s_idx][p],s,t))\n",
    "            P[s_idx][p] = 0\n",
    "        else:\n",
    "            P[s_idx][p] = 0\n",
    "            if p < 2:\n",
    "                print(stim[p+2], \"predicted at s=%s and t=%s\" %(s,t))\n",
    "                #add 2 to get the not-stimuli equivalent\n",
    "                input_update(a,s,s_idx,fi_IN=p+2)\n",
    "            else:\n",
    "                print(stim[p], \"predicted at s=%s and t=%s\" %(s,t))\n",
    "                input_update(a,s,s_idx, fi_IN=p)\n",
    "def timestep_update(a,t,S,fi_IN: None):\n",
    "    for s_idx, s in enumerate(S):\n",
    "        input_update(a,s,s_idx,fi_IN)\n",
    "        detect_notstim(a,t,s,s_idx,fi_IN) "
   ]
  },
  {
   "cell_type": "code",
   "execution_count": 8,
   "id": "d0677e68",
   "metadata": {},
   "outputs": [],
   "source": [
    "#alter this for different stimuli presentation at different times\n",
    "t_max = 7.1\n",
    "T = np.arange(0,t_max, dt)\n",
    "#pick an s value to track\n",
    "s_track = [1,3,7,19,27]\n",
    "f = [[0,1],[1,3],[0,7],[0,t_max+0.1]]\n",
    "P_tracker = np.ndarray(shape=(len(T), len(s_track), nf), dtype=float)\n",
    "F_tracker = np.ndarray(shape=(len(T), len(s_track), nf), dtype=float)"
   ]
  },
  {
   "cell_type": "code",
   "execution_count": 9,
   "id": "6edf8117",
   "metadata": {},
   "outputs": [],
   "source": [
    "M = np.zeros([len(S), nf, nf])\n",
    "F = np.zeros([len(S), nf])\n",
    "P = np.zeros([len(S), nf])\n",
    "for t in T:\n",
    "    if f[0][1] == t:\n",
    "        fi_IN = f[0][0]\n",
    "        timestep_update(a,t,S,fi_IN=fi_IN)\n",
    "        f.pop(0)\n",
    "    else:\n",
    "        timestep_update(a,t,S,fi_IN=None)\n",
    "    t_idx = int(t*10)\n",
    "    for s_idx, s in enumerate(s_track):\n",
    "        P_tracker[t_idx,s_idx] = P[s]\n",
    "        F_tracker[t_idx,s_idx] = F[s]"
   ]
  },
  {
   "cell_type": "code",
   "execution_count": 13,
   "id": "55970f3a",
   "metadata": {},
   "outputs": [
    {
     "data": {
      "text/plain": [
       "71"
      ]
     },
     "execution_count": 13,
     "metadata": {},
     "output_type": "execute_result"
    }
   ],
   "source": [
    "P_tracker[:,0,1]"
   ]
  },
  {
   "cell_type": "code",
   "execution_count": 12,
   "id": "4bbd54b2",
   "metadata": {},
   "outputs": [
    {
     "data": {
      "text/plain": [
       "array([0.00000000e+00, 0.00000000e+00, 0.00000000e+00, 0.00000000e+00,\n",
       "       0.00000000e+00, 0.00000000e+00, 0.00000000e+00, 0.00000000e+00,\n",
       "       0.00000000e+00, 0.00000000e+00, 0.00000000e+00, 0.00000000e+00,\n",
       "       0.00000000e+00, 0.00000000e+00, 0.00000000e+00, 0.00000000e+00,\n",
       "       0.00000000e+00, 0.00000000e+00, 0.00000000e+00, 0.00000000e+00,\n",
       "       0.00000000e+00, 0.00000000e+00, 0.00000000e+00, 0.00000000e+00,\n",
       "       0.00000000e+00, 0.00000000e+00, 0.00000000e+00, 0.00000000e+00,\n",
       "       0.00000000e+00, 0.00000000e+00, 1.00000000e+00, 1.11376184e-01,\n",
       "       1.24046543e-02, 1.38158306e-03, 1.53875448e-04, 1.71380602e-05,\n",
       "       1.90877174e-06, 2.12591712e-07, 2.36776536e-08, 2.63712670e-09,\n",
       "       2.93713108e-10, 3.27126450e-11, 3.64340956e-12, 4.05789053e-13,\n",
       "       4.51952361e-14, 5.03367292e-15, 5.60631280e-16, 6.24409724e-17,\n",
       "       6.95443722e-18, 7.74558677e-19, 8.62673896e-20, 9.60813263e-21,\n",
       "       1.07011714e-21, 1.19185564e-22, 1.32744332e-23, 1.47845572e-24,\n",
       "       1.64664755e-25, 1.83397321e-26, 2.04260937e-27, 2.27498036e-28,\n",
       "       2.53378631e-29, 2.82203449e-30, 3.14307432e-31, 3.50063623e-32,\n",
       "       3.89887504e-33, 4.34241823e-34, 4.83641970e-35, 5.38661969e-36,\n",
       "       5.99941145e-37, 6.68191552e-38, 7.44206250e-39])"
      ]
     },
     "execution_count": 12,
     "metadata": {},
     "output_type": "execute_result"
    }
   ],
   "source": [
    "F_tracker[:,0,1]"
   ]
  },
  {
   "cell_type": "code",
   "execution_count": 14,
   "id": "15871c53",
   "metadata": {},
   "outputs": [
    {
     "data": {
      "text/plain": [
       "array([[0.00000000e+00, 1.48841250e-39, 0.00000000e+00, 0.00000000e+00],\n",
       "       [1.72534779e-20, 0.00000000e+00, 0.00000000e+00, 0.00000000e+00],\n",
       "       [0.00000000e+00, 0.00000000e+00, 0.00000000e+00, 0.00000000e+00],\n",
       "       [0.00000000e+00, 0.00000000e+00, 0.00000000e+00, 0.00000000e+00]])"
      ]
     },
     "execution_count": 14,
     "metadata": {},
     "output_type": "execute_result"
    }
   ],
   "source": [
    "M[1]"
   ]
  },
  {
   "cell_type": "code",
   "execution_count": 18,
   "id": "484d7252",
   "metadata": {},
   "outputs": [
    {
     "data": {
      "text/plain": [
       "array([0.00000000e+00, 1.72534779e-20, 0.00000000e+00, 0.00000000e+00])"
      ]
     },
     "execution_count": 18,
     "metadata": {},
     "output_type": "execute_result"
    }
   ],
   "source": [
    "np.dot(M[1],stim_gen(fi_IN))"
   ]
  },
  {
   "cell_type": "code",
   "execution_count": 32,
   "id": "f6824617",
   "metadata": {},
   "outputs": [
    {
     "data": {
      "text/plain": [
       "<matplotlib.legend.Legend at 0x214965c8c70>"
      ]
     },
     "execution_count": 32,
     "metadata": {},
     "output_type": "execute_result"
    },
    {
     "data": {
      "image/png": "[encoded data removed]",
      "text/plain": [
       "<Figure size 600x1000 with 2 Axes>"
      ]
     },
     "metadata": {},
     "output_type": "display_data"
    }
   ],
   "source": [
    "#plot individual s value\n",
    "fig = plt.figure(figsize = (6,10))\n",
    "ax = fig.subplots(2,1)\n",
    "ax[0].plot(T, F_tracker[:,0,0])\n",
    "ax[0].set_title(\"F Values, s=%s\" %(S[s_track[1]]))\n",
    "ax[0].set_xlabel(\"Time\")\n",
    "#ax[0].legend(['X', 'Y','Not X', 'Not Y'])\n",
    "\n",
    "ax[1].plot(T, P_tracker[:,0,1])\n",
    "ax[1].set_title(\"P Values, s=%s\" %(S[s_track[1]]))\n",
    "ax[1].set_xlabel(\"Time\")\n",
    "ax[1].legend(['X', 'Y','Not-X (X predicted, not observed)', 'Not Y (Y predicted, not observed)']\n",
    "             ,bbox_to_anchor=(1.1, 1))"
   ]
  },
  {
   "cell_type": "code",
   "execution_count": 33,
   "id": "93791509",
   "metadata": {},
   "outputs": [
    {
     "data": {
      "text/plain": [
       "Text(11, 3.4, 'Y Predictions')"
      ]
     },
     "execution_count": 33,
     "metadata": {},
     "output_type": "execute_result"
    },
    {
     "data": {
      "image/png": "[encoded data removed]",
      "text/plain": [
       "<Figure size 700x500 with 1 Axes>"
      ]
     },
     "metadata": {},
     "output_type": "display_data"
    }
   ],
   "source": [
    "fig2,ax2 = plt.subplots(figsize = (7,5))\n",
    "for idx in range(len(s_track)):\n",
    "    #lower index = higher s value = higher position on plot\n",
    "    plot_inc = 0.6 * (3.5-idx)\n",
    "    #F_masked = F_tracker[:,idx,0]+plot_inc\n",
    "    F_X_masked = np.ma.masked_where(((T>2)&(T<6.5))|(T>9.0),(F_tracker[:,idx,0]+plot_inc))\n",
    "    F_Y_masked = np.ma.masked_where((T<2.5)|(T>5.0),(F_tracker[:,idx,1]+plot_inc))\n",
    "    P_masked = np.ma.masked_where((T<9.0), (P_tracker[:,idx,1]+plot_inc))\n",
    "    #P_masked = P_tracker[:,idx,1]+plot_inc\n",
    "    ax2.plot(T,F_X_masked, alpha=0.5)\n",
    "    ax2.plot(T,F_Y_masked, alpha=0.5)\n",
    "    ax2.plot(T,P_masked,alpha=0.5)\n",
    "ax2.set_ylim(0, 3.5)\n",
    "ax2.set_xlim(0, 15.0)\n",
    "ax2.set_xlabel('Time')\n",
    "ax2.set_yticks([0.3, 0.9, 1.5, 2.1],\n",
    "               ['s=%s' %(S[s_track[3]].round(4)),\n",
    "                's=%s' %(S[s_track[2]].round(4)),\n",
    "                's=%s' %(S[s_track[1]].round(4)),\n",
    "                's=%s' %(S[s_track[0]].round(4))\n",
    "               ])\n",
    "ax2.text(0.9,3.4, \"X\", verticalalignment='top')\n",
    "ax2.text(2.9,3.4, \"Y\", verticalalignment='top')\n",
    "ax2.text(6,3.4, \"X Re-presented\", verticalalignment='top')\n",
    "ax2.text(11,3.4, \"Y Predictions\", verticalalignment='top')"
   ]
  },
  {
   "cell_type": "code",
   "execution_count": 19,
   "id": "aac50de5",
   "metadata": {},
   "outputs": [
    {
     "data": {
      "text/plain": [
       "array([[0.00000000e+00, 0.00000000e+00, 0.00000000e+00, 0.00000000e+00],\n",
       "       [0.00000000e+00, 0.00000000e+00, 0.00000000e+00, 0.00000000e+00],\n",
       "       [0.00000000e+00, 0.00000000e+00, 0.00000000e+00, 0.00000000e+00],\n",
       "       [0.00000000e+00, 0.00000000e+00, 0.00000000e+00, 0.00000000e+00],\n",
       "       [0.00000000e+00, 0.00000000e+00, 0.00000000e+00, 0.00000000e+00],\n",
       "       [0.00000000e+00, 0.00000000e+00, 0.00000000e+00, 0.00000000e+00],\n",
       "       [0.00000000e+00, 0.00000000e+00, 0.00000000e+00, 0.00000000e+00],\n",
       "       [0.00000000e+00, 0.00000000e+00, 0.00000000e+00, 0.00000000e+00],\n",
       "       [0.00000000e+00, 0.00000000e+00, 0.00000000e+00, 0.00000000e+00],\n",
       "       [0.00000000e+00, 0.00000000e+00, 0.00000000e+00, 0.00000000e+00],\n",
       "       [1.00000000e+00, 0.00000000e+00, 0.00000000e+00, 0.00000000e+00],\n",
       "       [2.98296171e-01, 0.00000000e+00, 0.00000000e+00, 0.00000000e+00],\n",
       "       [8.89806058e-02, 0.00000000e+00, 0.00000000e+00, 0.00000000e+00],\n",
       "       [2.65425740e-02, 0.00000000e+00, 0.00000000e+00, 0.00000000e+00],\n",
       "       [7.91754821e-03, 0.00000000e+00, 0.00000000e+00, 0.00000000e+00],\n",
       "       [2.36177432e-03, 0.00000000e+00, 0.00000000e+00, 0.00000000e+00],\n",
       "       [7.04508237e-04, 0.00000000e+00, 0.00000000e+00, 0.00000000e+00],\n",
       "       [2.10152110e-04, 0.00000000e+00, 0.00000000e+00, 0.00000000e+00],\n",
       "       [6.26875697e-05, 0.00000000e+00, 0.00000000e+00, 0.00000000e+00],\n",
       "       [1.86994620e-05, 0.00000000e+00, 0.00000000e+00, 0.00000000e+00],\n",
       "       [5.57797793e-06, 0.00000000e+00, 0.00000000e+00, 0.00000000e+00],\n",
       "       [1.66388946e-06, 0.00000000e+00, 0.00000000e+00, 0.00000000e+00],\n",
       "       [4.96331856e-07, 0.00000000e+00, 0.00000000e+00, 0.00000000e+00],\n",
       "       [1.48053892e-07, 0.00000000e+00, 0.00000000e+00, 0.00000000e+00],\n",
       "       [4.41639092e-08, 0.00000000e+00, 0.00000000e+00, 0.00000000e+00],\n",
       "       [1.31739250e-08, 0.00000000e+00, 0.00000000e+00, 0.00000000e+00],\n",
       "       [3.92973140e-09, 0.00000000e+00, 0.00000000e+00, 0.00000000e+00],\n",
       "       [1.17222383e-09, 0.00000000e+00, 0.00000000e+00, 0.00000000e+00],\n",
       "       [3.49669880e-10, 0.00000000e+00, 0.00000000e+00, 0.00000000e+00],\n",
       "       [1.04305187e-10, 0.00000000e+00, 0.00000000e+00, 0.00000000e+00],\n",
       "       [3.11138378e-11, 1.00000000e+00, 0.00000000e+00, 0.00000000e+00],\n",
       "       [9.28113869e-12, 2.98296171e-01, 0.00000000e+00, 0.00000000e+00],\n",
       "       [2.76852814e-12, 8.89806058e-02, 0.00000000e+00, 0.00000000e+00],\n",
       "       [8.25841344e-13, 2.65425740e-02, 0.00000000e+00, 0.00000000e+00],\n",
       "       [2.46345311e-13, 7.91754821e-03, 0.00000000e+00, 0.00000000e+00],\n",
       "       [7.34838631e-14, 2.36177432e-03, 0.00000000e+00, 0.00000000e+00],\n",
       "       [2.19199550e-14, 7.04508237e-04, 0.00000000e+00, 0.00000000e+00],\n",
       "       [6.53863866e-15, 2.10152110e-04, 0.00000000e+00, 0.00000000e+00],\n",
       "       [1.95045088e-15, 6.26875697e-05, 0.00000000e+00, 0.00000000e+00],\n",
       "       [5.81812029e-16, 1.86994620e-05, 0.00000000e+00, 0.00000000e+00],\n",
       "       [1.73552301e-16, 5.57797793e-06, 0.00000000e+00, 0.00000000e+00],\n",
       "       [5.17699868e-17, 1.66388946e-06, 0.00000000e+00, 0.00000000e+00],\n",
       "       [1.54427889e-17, 4.96331856e-07, 0.00000000e+00, 0.00000000e+00],\n",
       "       [4.60652479e-18, 1.48053892e-07, 0.00000000e+00, 0.00000000e+00],\n",
       "       [1.37410871e-18, 4.41639092e-08, 0.00000000e+00, 0.00000000e+00],\n",
       "       [4.09891367e-19, 1.31739250e-08, 0.00000000e+00, 0.00000000e+00],\n",
       "       [1.22269025e-19, 3.92973140e-09, 0.00000000e+00, 0.00000000e+00],\n",
       "       [3.64723821e-20, 1.17222383e-09, 0.00000000e+00, 0.00000000e+00],\n",
       "       [1.08795719e-20, 3.49669880e-10, 0.00000000e+00, 0.00000000e+00],\n",
       "       [3.24533466e-21, 1.04305187e-10, 0.00000000e+00, 0.00000000e+00],\n",
       "       [9.68070903e-22, 3.11138378e-11, 0.00000000e+00, 0.00000000e+00],\n",
       "       [2.88771844e-22, 9.28113869e-12, 0.00000000e+00, 0.00000000e+00],\n",
       "       [8.61395354e-23, 2.76852814e-12, 0.00000000e+00, 0.00000000e+00],\n",
       "       [2.56950936e-23, 8.25841344e-13, 0.00000000e+00, 0.00000000e+00],\n",
       "       [7.66474805e-24, 2.46345311e-13, 0.00000000e+00, 0.00000000e+00],\n",
       "       [2.28636500e-24, 7.34838631e-14, 0.00000000e+00, 0.00000000e+00],\n",
       "       [6.82013925e-25, 2.19199550e-14, 0.00000000e+00, 0.00000000e+00],\n",
       "       [2.03442143e-25, 6.53863866e-15, 0.00000000e+00, 0.00000000e+00],\n",
       "       [6.06860122e-26, 1.95045088e-15, 0.00000000e+00, 0.00000000e+00],\n",
       "       [1.81024051e-26, 5.81812029e-16, 0.00000000e+00, 0.00000000e+00],\n",
       "       [5.39987813e-27, 1.73552301e-16, 0.00000000e+00, 0.00000000e+00],\n",
       "       [1.61076297e-27, 5.17699868e-17, 0.00000000e+00, 0.00000000e+00],\n",
       "       [4.80484428e-28, 1.54427889e-17, 0.00000000e+00, 0.00000000e+00],\n",
       "       [1.43326665e-28, 4.60652479e-18, 0.00000000e+00, 0.00000000e+00],\n",
       "       [4.27537955e-29, 1.37410871e-18, 0.00000000e+00, 0.00000000e+00],\n",
       "       [1.27532935e-29, 4.09891367e-19, 0.00000000e+00, 0.00000000e+00],\n",
       "       [3.80425862e-30, 1.22269025e-19, 0.00000000e+00, 0.00000000e+00],\n",
       "       [1.13479578e-30, 3.64723821e-20, 0.00000000e+00, 0.00000000e+00],\n",
       "       [3.38505237e-31, 1.08795719e-20, 0.00000000e+00, 0.00000000e+00],\n",
       "       [1.00974816e-31, 3.24533466e-21, 0.00000000e+00, 0.00000000e+00],\n",
       "       [1.00000000e+00, 9.68070903e-22, 0.00000000e+00, 0.00000000e+00],\n",
       "       [2.98296171e-01, 2.88771844e-22, 0.00000000e+00, 0.00000000e+00],\n",
       "       [8.89806058e-02, 8.61395354e-23, 0.00000000e+00, 0.00000000e+00],\n",
       "       [2.65425740e-02, 2.56950936e-23, 0.00000000e+00, 0.00000000e+00],\n",
       "       [7.91754821e-03, 7.66474805e-24, 0.00000000e+00, 0.00000000e+00],\n",
       "       [2.36177432e-03, 2.28636500e-24, 0.00000000e+00, 0.00000000e+00],\n",
       "       [7.04508237e-04, 6.82013925e-25, 0.00000000e+00, 0.00000000e+00],\n",
       "       [2.10152110e-04, 2.03442143e-25, 0.00000000e+00, 0.00000000e+00],\n",
       "       [6.26875697e-05, 6.06860122e-26, 0.00000000e+00, 0.00000000e+00],\n",
       "       [1.86994620e-05, 1.81024051e-26, 0.00000000e+00, 0.00000000e+00],\n",
       "       [5.57797793e-06, 5.39987813e-27, 0.00000000e+00, 0.00000000e+00],\n",
       "       [1.66388946e-06, 1.61076297e-27, 0.00000000e+00, 0.00000000e+00],\n",
       "       [4.96331856e-07, 4.80484428e-28, 0.00000000e+00, 0.00000000e+00],\n",
       "       [1.48053892e-07, 1.43326665e-28, 0.00000000e+00, 0.00000000e+00],\n",
       "       [4.41639092e-08, 4.27537955e-29, 0.00000000e+00, 0.00000000e+00],\n",
       "       [1.31739250e-08, 1.27532935e-29, 0.00000000e+00, 0.00000000e+00],\n",
       "       [3.92973140e-09, 3.80425862e-30, 0.00000000e+00, 0.00000000e+00],\n",
       "       [1.17222383e-09, 1.13479578e-30, 0.00000000e+00, 0.00000000e+00],\n",
       "       [3.49669880e-10, 3.38505237e-31, 0.00000000e+00, 0.00000000e+00],\n",
       "       [1.04305187e-10, 1.00974816e-31, 0.00000000e+00, 0.00000000e+00],\n",
       "       [3.11138378e-11, 3.01204011e-32, 0.00000000e+00, 0.00000000e+00],\n",
       "       [9.28113869e-12, 8.98480031e-33, 0.00000000e+00, 0.00000000e+00],\n",
       "       [2.76852814e-12, 2.68013153e-33, 0.00000000e+00, 0.00000000e+00],\n",
       "       [8.25841344e-13, 7.99472975e-34, 0.00000000e+00, 0.00000000e+00],\n",
       "       [2.46345311e-13, 2.38479728e-34, 0.00000000e+00, 0.00000000e+00],\n",
       "       [7.34838631e-14, 7.11375897e-35, 0.00000000e+00, 0.00000000e+00],\n",
       "       [2.19199550e-14, 2.12200706e-35, 0.00000000e+00, 0.00000000e+00],\n",
       "       [6.53863866e-15, 6.32986583e-36, 0.00000000e+00, 0.00000000e+00],\n",
       "       [1.95045088e-15, 1.88817474e-36, 0.00000000e+00, 0.00000000e+00],\n",
       "       [5.81812029e-16, 5.63235296e-37, 0.00000000e+00, 0.00000000e+00],\n",
       "       [1.73552301e-16, 1.68010932e-37, 0.00000000e+00, 0.00000000e+00],\n",
       "       [5.17699868e-17, 5.01170179e-38, 0.00000000e+00, 0.00000000e+00],\n",
       "       [1.54427889e-17, 1.49497146e-38, 0.00000000e+00, 0.00000000e+00],\n",
       "       [4.60652479e-18, 4.45944261e-39, 0.00000000e+00, 0.00000000e+00],\n",
       "       [1.37410871e-18, 1.33023466e-39, 0.00000000e+00, 0.00000000e+00],\n",
       "       [4.09891367e-19, 3.96803905e-40, 0.00000000e+00, 0.00000000e+00],\n",
       "       [1.22269025e-19, 1.18365086e-40, 0.00000000e+00, 0.00000000e+00],\n",
       "       [3.64723821e-20, 3.53078519e-41, 0.00000000e+00, 0.00000000e+00],\n",
       "       [1.08795719e-20, 1.05321970e-41, 0.00000000e+00, 0.00000000e+00],\n",
       "       [3.24533466e-21, 3.14171405e-42, 0.00000000e+00, 0.00000000e+00],\n",
       "       [9.68070903e-22, 9.37161273e-43, 0.00000000e+00, 0.00000000e+00],\n",
       "       [2.88771844e-22, 2.79551620e-43, 0.00000000e+00, 0.00000000e+00],\n",
       "       [8.61395354e-23, 8.33891778e-44, 0.00000000e+00, 0.00000000e+00],\n",
       "       [2.56950936e-23, 2.48746725e-44, 0.00000000e+00, 0.00000000e+00],\n",
       "       [7.66474805e-24, 7.42001956e-45, 0.00000000e+00, 0.00000000e+00],\n",
       "       [2.28636500e-24, 2.21336343e-45, 0.00000000e+00, 0.00000000e+00],\n",
       "       [6.82013925e-25, 6.60237836e-46, 0.00000000e+00, 0.00000000e+00],\n",
       "       [2.03442143e-25, 1.96946419e-46, 0.00000000e+00, 0.00000000e+00],\n",
       "       [6.06860122e-26, 5.87483626e-47, 0.00000000e+00, 0.00000000e+00],\n",
       "       [5.39987813e-27, 5.22746490e-48, 0.00000000e+00, 1.00000000e+00],\n",
       "       [1.61076297e-27, 1.55933277e-48, 0.00000000e+00, 2.98296171e-01],\n",
       "       [4.80484428e-28, 4.65142994e-49, 0.00000000e+00, 8.89806058e-02],\n",
       "       [1.43326665e-28, 1.38750374e-49, 0.00000000e+00, 2.65425740e-02],\n",
       "       [4.27537955e-29, 4.13887054e-50, 0.00000000e+00, 7.91754821e-03],\n",
       "       [1.27532935e-29, 1.23460924e-50, 0.00000000e+00, 2.36177432e-03],\n",
       "       [3.80425862e-30, 3.68279208e-51, 0.00000000e+00, 7.04508237e-04],\n",
       "       [1.13479578e-30, 1.09856278e-51, 0.00000000e+00, 2.10152110e-04],\n",
       "       [3.38505237e-31, 3.27697070e-52, 0.00000000e+00, 6.26875697e-05],\n",
       "       [1.00974816e-31, 9.77507814e-53, 0.00000000e+00, 1.86994620e-05],\n",
       "       [3.01204011e-32, 2.91586839e-53, 0.00000000e+00, 5.57797793e-06],\n",
       "       [8.98480031e-33, 8.69792375e-54, 0.00000000e+00, 1.66388946e-06],\n",
       "       [2.68013153e-33, 2.59455735e-54, 0.00000000e+00, 4.96331856e-07],\n",
       "       [7.99472975e-34, 7.73946525e-55, 0.00000000e+00, 1.48053892e-07],\n",
       "       [2.38479728e-34, 2.30865285e-55, 0.00000000e+00, 4.41639092e-08],\n",
       "       [7.11375897e-35, 6.88662307e-56, 0.00000000e+00, 1.31739250e-08],\n",
       "       [2.12200706e-35, 2.05425329e-56, 0.00000000e+00, 3.92973140e-09],\n",
       "       [6.32986583e-36, 6.12775893e-57, 0.00000000e+00, 1.17222383e-09],\n",
       "       [1.88817474e-36, 1.82788703e-57, 0.00000000e+00, 3.49669880e-10],\n",
       "       [5.63235296e-37, 5.45251702e-58, 0.00000000e+00, 1.04305187e-10],\n",
       "       [1.68010932e-37, 1.62646495e-58, 0.00000000e+00, 3.11138378e-11],\n",
       "       [5.01170179e-38, 4.85168267e-59, 0.00000000e+00, 9.28113869e-12],\n",
       "       [1.49497146e-38, 1.44723837e-59, 0.00000000e+00, 2.76852814e-12],\n",
       "       [4.45944261e-39, 4.31705664e-60, 0.00000000e+00, 8.25841344e-13],\n",
       "       [1.33023466e-39, 1.28776147e-60, 0.00000000e+00, 2.46345311e-13],\n",
       "       [3.96803905e-40, 3.84134315e-61, 0.00000000e+00, 7.34838631e-14],\n",
       "       [1.18365086e-40, 1.14585795e-61, 0.00000000e+00, 2.19199550e-14],\n",
       "       [3.53078519e-41, 3.41805041e-62, 0.00000000e+00, 6.53863866e-15],\n",
       "       [1.05321970e-41, 1.01959135e-62, 0.00000000e+00, 1.95045088e-15],\n",
       "       [3.14171405e-42, 3.04140196e-63, 0.00000000e+00, 5.81812029e-16],\n",
       "       [9.37161273e-43, 9.07238560e-64, 0.00000000e+00, 1.73552301e-16]])"
      ]
     },
     "execution_count": 19,
     "metadata": {},
     "output_type": "execute_result"
    }
   ],
   "source": [
    "F_tracker[:,0,:]"
   ]
  },
  {
   "cell_type": "code",
   "execution_count": 34,
   "id": "9a4e94a5",
   "metadata": {},
   "outputs": [
    {
     "data": {
      "text/plain": [
       "array([[ 70],\n",
       "       [ 71],\n",
       "       [ 72],\n",
       "       [ 73],\n",
       "       [ 74],\n",
       "       [ 75],\n",
       "       [ 76],\n",
       "       [ 77],\n",
       "       [ 78],\n",
       "       [ 79],\n",
       "       [ 80],\n",
       "       [ 81],\n",
       "       [ 82],\n",
       "       [ 83],\n",
       "       [ 84],\n",
       "       [ 85],\n",
       "       [ 86],\n",
       "       [ 87],\n",
       "       [ 88],\n",
       "       [ 89],\n",
       "       [ 90],\n",
       "       [ 91],\n",
       "       [ 92],\n",
       "       [ 93],\n",
       "       [ 94],\n",
       "       [ 95],\n",
       "       [ 96],\n",
       "       [ 97],\n",
       "       [ 98],\n",
       "       [ 99],\n",
       "       [100],\n",
       "       [101],\n",
       "       [102],\n",
       "       [103],\n",
       "       [104],\n",
       "       [105],\n",
       "       [106],\n",
       "       [107],\n",
       "       [108],\n",
       "       [109],\n",
       "       [110],\n",
       "       [111],\n",
       "       [112],\n",
       "       [113],\n",
       "       [114],\n",
       "       [115],\n",
       "       [116],\n",
       "       [117],\n",
       "       [118],\n",
       "       [119],\n",
       "       [120],\n",
       "       [121],\n",
       "       [122],\n",
       "       [123],\n",
       "       [124],\n",
       "       [125],\n",
       "       [126],\n",
       "       [127],\n",
       "       [128],\n",
       "       [129],\n",
       "       [130],\n",
       "       [131],\n",
       "       [132],\n",
       "       [133],\n",
       "       [134],\n",
       "       [135],\n",
       "       [136],\n",
       "       [137],\n",
       "       [138],\n",
       "       [139],\n",
       "       [140],\n",
       "       [141]], dtype=int64)"
      ]
     },
     "execution_count": 34,
     "metadata": {},
     "output_type": "execute_result"
    }
   ],
   "source": [
    "np.argwhere(P_tracker[:,0,1])"
   ]
  },
  {
   "cell_type": "code",
   "execution_count": 35,
   "id": "ee080250",
   "metadata": {},
   "outputs": [
    {
     "data": {
      "text/plain": [
       "array([6.22276756e-12, 1.05893074e-11, 1.80198649e-11, 3.06644731e-11,\n",
       "       5.21818513e-11, 8.87980562e-11, 1.51107992e-10, 2.57141049e-10,\n",
       "       4.37577907e-10, 7.44628000e-10, 1.26713632e-09, 2.15629073e-09,\n",
       "       3.66936818e-09, 6.24417789e-09, 1.06257414e-08, 1.80818648e-08,\n",
       "       3.07699786e-08, 5.23613905e-08, 8.91035786e-08, 1.51627901e-07,\n",
       "       2.58025779e-07, 4.39083457e-07, 7.47190000e-07, 1.27149608e-06,\n",
       "       2.16370975e-06, 3.68199317e-06, 6.26566187e-06, 1.06623008e-05,\n",
       "       1.81440781e-05, 3.08758472e-05, 5.25415473e-05, 8.94101523e-05,\n",
       "       1.52149598e-04, 2.58913554e-04, 4.40594186e-04, 7.49760814e-04,\n",
       "       1.27587085e-03, 2.17115431e-03, 3.69466160e-03, 6.28721978e-03,\n",
       "       1.06989860e-02, 1.82065054e-02, 3.09820799e-02, 5.27223241e-02,\n",
       "       8.97177807e-02, 1.52673091e-01, 2.59804383e-01, 4.42110114e-01,\n",
       "       7.52340474e-01, 0.00000000e+00, 0.00000000e+00, 0.00000000e+00,\n",
       "       0.00000000e+00, 0.00000000e+00, 0.00000000e+00, 0.00000000e+00,\n",
       "       0.00000000e+00, 0.00000000e+00, 0.00000000e+00, 0.00000000e+00,\n",
       "       0.00000000e+00, 0.00000000e+00, 0.00000000e+00, 0.00000000e+00,\n",
       "       0.00000000e+00, 0.00000000e+00, 0.00000000e+00, 0.00000000e+00,\n",
       "       0.00000000e+00, 0.00000000e+00, 0.00000000e+00, 0.00000000e+00,\n",
       "       0.00000000e+00, 0.00000000e+00, 0.00000000e+00, 0.00000000e+00,\n",
       "       0.00000000e+00, 0.00000000e+00, 0.00000000e+00, 0.00000000e+00])"
      ]
     },
     "execution_count": 35,
     "metadata": {},
     "output_type": "execute_result"
    }
   ],
   "source": [
    "P_tracker[70:,1,1]"
   ]
  },
  {
   "cell_type": "code",
   "execution_count": 36,
   "id": "d17746d1",
   "metadata": {},
   "outputs": [
    {
     "data": {
      "text/plain": [
       "array([1.72534779e-20, 3.25853293e-20, 6.15414290e-20, 1.16228608e-19,\n",
       "       2.19512118e-19, 4.14575814e-19, 7.82977756e-19, 1.47875044e-18,\n",
       "       2.79280330e-18, 5.27455482e-18, 9.96164985e-18, 1.88138092e-17,\n",
       "       3.55322080e-17, 6.71069744e-17, 1.26739830e-16, 2.39363861e-16,\n",
       "       4.52068289e-16, 8.53786938e-16, 1.61248235e-15, 3.04537256e-15,\n",
       "       5.75156315e-15, 1.08625391e-14, 2.05152501e-14, 3.87455900e-14,\n",
       "       7.31758440e-14, 1.38201642e-13, 2.61010912e-13, 4.92951425e-13,\n",
       "       9.30999801e-13, 1.75830840e-12, 3.32078312e-12, 6.27171008e-12,\n",
       "       1.18449010e-11, 2.23705622e-11, 4.22495765e-11, 7.97935565e-11,\n",
       "       1.50700011e-10, 2.84615630e-10, 5.37531858e-10, 1.01519547e-09,\n",
       "       1.91732234e-09, 3.62110063e-09, 6.83889690e-09, 1.29161036e-08,\n",
       "       2.43936608e-08, 4.60704487e-08, 8.70097467e-08, 1.64328680e-07,\n",
       "       3.10355059e-07, 5.86143955e-07, 1.10700543e-06, 2.09071683e-06,\n",
       "       3.94857759e-06, 7.45737768e-06, 1.40841811e-05, 2.65997198e-05,\n",
       "       5.02368644e-05, 9.48785386e-05, 1.79189868e-04, 3.38422252e-04,\n",
       "       6.39152324e-04, 1.20711830e-03, 2.27979237e-03, 4.30567017e-03,\n",
       "       8.13179123e-03, 1.53578946e-02, 2.90052855e-02, 5.47800730e-02,\n",
       "       1.03458951e-01, 1.95395038e-01, 3.69027722e-01, 6.96954545e-01,\n",
       "       0.00000000e+00, 0.00000000e+00, 0.00000000e+00, 0.00000000e+00,\n",
       "       0.00000000e+00, 0.00000000e+00, 0.00000000e+00, 0.00000000e+00])"
      ]
     },
     "execution_count": 36,
     "metadata": {},
     "output_type": "execute_result"
    }
   ],
   "source": [
    "P_tracker[70:,0,1]"
   ]
  },
  {
   "cell_type": "code",
   "execution_count": null,
   "id": "263ba508",
   "metadata": {},
   "outputs": [],
   "source": [
    "#plot using imshow\n",
    "#fig = plt.figure(figsize = (5,10))\n",
    "#ax = fig.subplots(2,1)\n",
    "#ax[0].imshow(F_tracker, aspect='auto')\n",
    "#ax[0].set_title(\"F Values, s=%s\" %(S[s_track]))\n",
    "#ax[0].set_ylabel(\"Time\")\n",
    "#ax[0].set_xticks(np.arange(4),['X', 'Y','Not X', 'Not Y'])\n",
    "#ax[1].imshow(P_tracker, aspect='auto')\n",
    "#ax[1].set_title(\"P Values, s=%s\" %(S[s_track]))\n",
    "#ax[1].set_ylabel(\"Time\")\n",
    "#ax[1].set_xticks(np.arange(4),['X', 'Y','Not X', 'Not Y'])\n",
    "#ax[2].imshow(P_max, aspect='auto')\n",
    "#ax[2].set_title(\"P Values, s=%s\" %(S[-1]))\n",
    "#ax[2].set_ylabel(\"Time\")\n",
    "#ax[2].set_xticks(np.arange(4),['X', 'Y','Not X', 'Not Y'])"
   ]
  },
  {
   "cell_type": "code",
   "execution_count": null,
   "id": "cd844bd8",
   "metadata": {},
   "outputs": [],
   "source": [
    "#plot tracked variables through time - doesn't work yet\n",
    "#x = np.arange(nf)\n",
    "#fig = plt.figure()\n",
    "#ax = fig.subplots(3,1)\n",
    "#i = 0\n",
    "#F_plot = ax[0].scatter(x, F_tracker[i])\n",
    "#P_plot = ax[2].scatter(x, P_tracker[i])\n",
    "#M_plot = ax[1].pcolormesh(M_tracker[i])\n",
    "\n",
    "#def update(i=0.0):\n",
    "#    idx = int(i*10)\n",
    "#    F_plot.set_offsets(np.c_[x,F_tracker[idx]])\n",
    "#    P_plot.set_offsets(np.c_[x,P_tracker[idx]])\n",
    "#    M_plot.set_array(M_tracker[idx])\n",
    "#    #scatter.set_ydata(Tracker[idx])\n",
    "#    fig.canvas.draw_idle()\n",
    "\n",
    "#interact(update, i = (0.0,t_max,dt));"
   ]
  }
 ],
 "metadata": {
  "kernelspec": {
   "display_name": "Python 3 (ipykernel)",
   "language": "python",
   "name": "python3"
  },
  "language_info": {
   "codemirror_mode": {
    "name": "ipython",
    "version": 3
   },
   "file_extension": ".py",
   "mimetype": "text/x-python",
   "name": "python",
   "nbconvert_exporter": "python",
   "pygments_lexer": "ipython3",
   "version": "3.10.4"
  }
 },
 "nbformat": 4,
 "nbformat_minor": 5
}
