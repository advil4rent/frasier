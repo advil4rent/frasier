{
 "cells": [
  {
   "cell_type": "code",
   "execution_count": null,
   "id": "14047e5d",
   "metadata": {},
   "outputs": [],
   "source": [
    "import numpy as np\n",
    "import matplotlib.pyplot as plt\n",
    "from ipywidgets import *"
   ]
  },
  {
   "cell_type": "code",
   "execution_count": null,
   "id": "2f14fdd1",
   "metadata": {},
   "outputs": [],
   "source": [
    "# no. of stimuli x2 for not-stimuli as well\n",
    "nf = 2*2\n",
    "stim = {\n",
    "    0:\"X\",\n",
    "    1:\"Y\",\n",
    "    2:\"NotX\",\n",
    "    3:\"NotY\"\n",
    "}\n",
    "# variables\n",
    "dt = 0.1\n",
    "a = 0.8"
   ]
  },
  {
   "cell_type": "code",
   "execution_count": null,
   "id": "712575fc",
   "metadata": {},
   "outputs": [],
   "source": [
    "#generate a range of s and tau_star\n",
    "def s_gen(tau_min=1, tau_max=100., buff_max=None, k=20, ntau=40, g=0.0):\n",
    "    c = (tau_max/tau_min)**(1./(ntau-1))-1\n",
    "    tau_star = tau_min*(1+c)**np.arange(ntau).astype(float)\n",
    "    s = 1/tau_star\n",
    "    return [tau_star, s]\n",
    "[tau_star, S] = s_gen()"
   ]
  },
  {
   "cell_type": "code",
   "execution_count": null,
   "id": "29ce7319",
   "metadata": {},
   "outputs": [],
   "source": [
    "S"
   ]
  },
  {
   "cell_type": "code",
   "execution_count": null,
   "id": "9666b01f",
   "metadata": {},
   "outputs": [],
   "source": [
    "def stim_gen(i):\n",
    "    global nf\n",
    "    stim_vec = np.zeros(nf)\n",
    "    if i is not None:\n",
    "        stim_vec[i] = 1\n",
    "    return stim_vec"
   ]
  },
  {
   "cell_type": "code",
   "execution_count": null,
   "id": "7a7f0f58",
   "metadata": {},
   "outputs": [],
   "source": [
    "def input_update(a,s,s_idx,fi_IN: None):\n",
    "    global M\n",
    "    global F\n",
    "    global P\n",
    "    #if fi_IN is not None:\n",
    "        #print(\"Inputing stim\", stim[fi_IN])\n",
    "    f_IN = stim_gen(fi_IN)\n",
    "    #eq 1\n",
    "    F[s_idx] += -s*F[s_idx] + f_IN\n",
    "    F[s_idx] = np.where(F[s_idx]<0, 0, F[s_idx])\n",
    "    #eq 2\n",
    "    P_IN = np.dot(M[s_idx], f_IN)\n",
    "    #eq 3\n",
    "    P[s_idx] +=  s*P[s_idx] + P_IN - P[0]\n",
    "    P[s_idx] = np.where(P[s_idx]<0, 0, P[s_idx])\n",
    "    #find stimulis from the past that are still active & update associations\n",
    "    if fi_IN is not None:\n",
    "        for past_stim in np.flatnonzero(F[s_idx]):\n",
    "            #Avoiding self-prediction updates\n",
    "            if past_stim != fi_IN:\n",
    "                #eq4 - make sure we're indexing M correctly\n",
    "                M[s_idx][fi_IN, past_stim] = a * M[s_idx][fi_IN, past_stim] + (1-a) * F[s_idx][past_stim]\n",
    "def detect_notstim(a,t,s,s_idx,fi_IN:None):\n",
    "    global M\n",
    "    global F\n",
    "    global P\n",
    "    predicted = np.where(P[s_idx]>=1)[0]\n",
    "    #iterate through them\n",
    "    for p in predicted:\n",
    "        if p == fi_IN:\n",
    "            print(stim[p], \"Observed & Predicted with p=%s! at at s=%s and t=%s\"\n",
    "                  %(P[s_idx][p],s,t))\n",
    "            P[s_idx][p] = 0\n",
    "        else:\n",
    "            P[s_idx][p] = 0\n",
    "            if p < 2:\n",
    "                print(stim[p+2], \"predicted at s=%s and t=%s\" %(s,t))\n",
    "                #add 2 to get the not-stimuli equivalent\n",
    "                input_update(a,s,s_idx,fi_IN=p+2)\n",
    "            else:\n",
    "                print(stim[p], \"predicted at s=%s and t=%s\" %(s,t))\n",
    "                input_update(a,s,s_idx, fi_IN=p)\n",
    "def timestep_update(a,t,S,fi_IN: None):\n",
    "    for s_idx, s in enumerate(S):\n",
    "        input_update(a,s,s_idx,fi_IN)\n",
    "        detect_notstim(a,t,s,s_idx,fi_IN) "
   ]
  },
  {
   "cell_type": "code",
   "execution_count": null,
   "id": "d0677e68",
   "metadata": {},
   "outputs": [],
   "source": [
    "M = np.zeros([len(S), nf, nf])\n",
    "F = np.zeros([len(S), nf])\n",
    "P = np.zeros([len(S), nf])\n",
    "#modify in loop to change tracking element\n",
    "P_tracker = np.zeros(nf)\n",
    "P_max = np.zeros(nf)\n",
    "M_tracker = list()\n",
    "F_tracker = np.zeros(nf)\n",
    "#alter this for different stimuli presentation at different times\n",
    "t_max = 10\n",
    "f = [[0,1],[1,1.5],[0,4],[0,10.1]]\n",
    "#pick an s value to track\n",
    "s_track = 2"
   ]
  },
  {
   "cell_type": "code",
   "execution_count": null,
   "id": "6edf8117",
   "metadata": {},
   "outputs": [],
   "source": [
    "T = np.arange(0,t_max, dt)\n",
    "fi_prev = None\n",
    "for t in T:\n",
    "    if f[0][1] == t:\n",
    "        fi_IN = f[0][0]\n",
    "        timestep_update(a,t,S,fi_IN=fi_IN)\n",
    "        f.pop(0)\n",
    "    else:\n",
    "        timestep_update(a,t,S,fi_IN=None)\n",
    "    P_tracker = np.vstack((P_tracker,P[s_track]))\n",
    "    P_max = np.vstack((P_max,P[-1]))\n",
    "    M_tracker.append(M[s_track].copy())\n",
    "    F_tracker = np.vstack((F_tracker,F[s_track]))"
   ]
  },
  {
   "cell_type": "code",
   "execution_count": null,
   "id": "19e4bec2",
   "metadata": {},
   "outputs": [],
   "source": [
    "#fig = plt.figure(figsize = (5,10))\n",
    "#ax = fig.subplots(2,1)\n",
    "#ax[0].imshow(F_tracker, aspect='auto')\n",
    "#ax[0].set_title(\"F Values, s=%s\" %(S[s_track]))\n",
    "#ax[0].set_ylabel(\"Time\")\n",
    "#ax[0].set_xticks(np.arange(4),['X', 'Y','Not X', 'Not Y'])\n",
    "#ax[1].imshow(P_tracker, aspect='auto')\n",
    "#ax[1].set_title(\"P Values, s=%s\" %(S[s_track]))\n",
    "#ax[1].set_ylabel(\"Time\")\n",
    "#ax[1].set_xticks(np.arange(4),['X', 'Y','Not X', 'Not Y'])\n",
    "#ax[2].imshow(P_max, aspect='auto')\n",
    "#ax[2].set_title(\"P Values, s=%s\" %(S[-1]))\n",
    "#ax[2].set_ylabel(\"Time\")\n",
    "#ax[2].set_xticks(np.arange(4),['X', 'Y','Not X', 'Not Y'])"
   ]
  },
  {
   "cell_type": "code",
   "execution_count": null,
   "id": "f6824617",
   "metadata": {},
   "outputs": [],
   "source": [
    "fig = plt.figure(figsize = (6,10))\n",
    "ax = fig.subplots(2,1)\n",
    "ax[0].plot(T, F_tracker[1:,:])\n",
    "ax[0].set_title(\"F Values, s=%s\" %(S[s_track]))\n",
    "ax[0].set_xlabel(\"Time\")\n",
    "#ax[0].legend(['X', 'Y','Not X', 'Not Y'])\n",
    "\n",
    "ax[1].plot(T, P_tracker[1:,:])\n",
    "ax[1].set_title(\"P Values, s=%s\" %(S[s_track]))\n",
    "ax[1].set_xlabel(\"Time\")\n",
    "ax[1].legend(['X', 'Y','Not-X (X predicted, not observed)', 'Not Y (Y predicted, not observed)']\n",
    "             ,bbox_to_anchor=(1.1, 1))"
   ]
  },
  {
   "cell_type": "code",
   "execution_count": null,
   "id": "cd844bd8",
   "metadata": {},
   "outputs": [],
   "source": [
    "#plot tracked variables through time - doesn't work yet\n",
    "x = np.arange(nf)\n",
    "fig = plt.figure()\n",
    "ax = fig.subplots(3,1)\n",
    "i = 0\n",
    "F_plot = ax[0].scatter(x, F_tracker[i])\n",
    "P_plot = ax[2].scatter(x, P_tracker[i])\n",
    "M_plot = ax[1].pcolormesh(M_tracker[i])\n",
    "\n",
    "def update(i=0.0):\n",
    "    idx = int(i*10)\n",
    "    F_plot.set_offsets(np.c_[x,F_tracker[idx]])\n",
    "    P_plot.set_offsets(np.c_[x,P_tracker[idx]])\n",
    "    M_plot.set_array(M_tracker[idx])\n",
    "    #scatter.set_ydata(Tracker[idx])\n",
    "    fig.canvas.draw_idle()\n",
    "\n",
    "interact(update, i = (0.0,t_max,dt));"
   ]
  }
 ],
 "metadata": {
  "kernelspec": {
   "display_name": "Python 3 (ipykernel)",
   "language": "python",
   "name": "python3"
  },
  "language_info": {
   "codemirror_mode": {
    "name": "ipython",
    "version": 3
   },
   "file_extension": ".py",
   "mimetype": "text/x-python",
   "name": "python",
   "nbconvert_exporter": "python",
   "pygments_lexer": "ipython3",
   "version": "3.10.4"
  }
 },
 "nbformat": 4,
 "nbformat_minor": 5
}
