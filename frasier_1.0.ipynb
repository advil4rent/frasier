{
 "cells": [
  {
   "cell_type": "code",
   "execution_count": 1,
   "id": "14047e5d",
   "metadata": {},
   "outputs": [],
   "source": [
    "import numpy as np\n",
    "import matplotlib.pyplot as plt\n",
    "from ipywidgets import *"
   ]
  },
  {
   "cell_type": "code",
   "execution_count": 4,
   "id": "23bfd20b",
   "metadata": {},
   "outputs": [],
   "source": [
    "def stim_gen(i):\n",
    "    global nf\n",
    "    stim_vec = np.zeros(nf)\n",
    "    if i is not None:\n",
    "        stim_vec[i] = 1\n",
    "    return stim_vec\n",
    "\n",
    "class iSITH():\n",
    "    def __init__(self, tau_min=.1, tau_max=3, buff_max=None, k=50, ntau=20, dt=1, g=0.0):\n",
    "        super(iSITH, self).__init__()\n",
    "        self.k = k\n",
    "        self.tau_min = tau_min\n",
    "        self.tau_max = tau_max\n",
    "        if buff_max is None:\n",
    "            buff_max = 3*tau_max\n",
    "        self.buff_max = buff_max\n",
    "        self.ntau = ntau\n",
    "        self.dt = dt\n",
    "        self.g = g\n",
    "\n",
    "        self.c = (tau_max/tau_min)**(1./(ntau-1))-1\n",
    "        self.tau_star = tau_min*(1+self.c)**np.arange(ntau).astype(float)\n",
    "        self.s = 1/self.tau_star\n",
    "\n",
    "class worker():\n",
    "    def __init__(self, s, a, nf=2):\n",
    "        self.a = a\n",
    "        self.s = s\n",
    "        self.M = np.zeros([nf,nf])\n",
    "        self.F = np.zeros(nf)\n",
    "        self.P = np.zeros(nf)\n",
    "    def update(self, dt, fi_IN: None, f_IN: None, P_smax: float):\n",
    "        if fi_IN is not None:\n",
    "            self.F += (-self.s*self.F)*dt + f_IN\n",
    "            P_IN = np.dot(self.M, f_IN)\n",
    "            self.P += (self.s*self.P)*dt + P_IN - P_smax\n",
    "            for past_stim in np.flatnonzero(self.F):\n",
    "                if past_stim != fi_IN:\n",
    "                    self.M[fi_IN,past_stim] = self.a*self.M[fi_IN,past_stim]+(1-self.a)*self.F[past_stim]\n",
    "        else:\n",
    "            self.F += (-self.s*self.F)*dt\n",
    "            self.P += (self.s*self.P)*dt  - P_smax\n",
    "        return (self.F, self.P)"
   ]
  },
  {
   "cell_type": "code",
   "execution_count": 5,
   "id": "21cd1790",
   "metadata": {},
   "outputs": [],
   "source": [
    "# no. of stimuli x2 for not-stimuli as well\n",
    "nf = 2#*2\n",
    "# variables\n",
    "dt = 0.01\n",
    "#A = np.arange(0,1,0.2)\n",
    "a = 0.5\n",
    "e = 0.0000005"
   ]
  },
  {
   "cell_type": "code",
   "execution_count": 182,
   "id": "d0677e68",
   "metadata": {},
   "outputs": [],
   "source": [
    "S = iSITH(tau_min=0.1,tau_max=3,ntau=20).s\n",
    "#stim presentation\n",
    "t_x1 = 1\n",
    "t_y = 2\n",
    "t_x2 = 7\n",
    "#time steps\n",
    "t_max = 9#t_x2+(t_y-t_x1)+4\n",
    "T = np.arange(0,t_max, dt)"
   ]
  },
  {
   "cell_type": "code",
   "execution_count": 184,
   "id": "ecddffb2",
   "metadata": {},
   "outputs": [],
   "source": [
    "workers = []\n",
    "predictions = np.zeros([len(S), nf])\n",
    "for s in S:\n",
    "    workers.append(worker(s, a))\n",
    "    \n",
    "P_smax = 0\n",
    "F_xtrack = np.zeros(len(S))\n",
    "P_ytrack = np.zeros(len(S))\n",
    "\n",
    "f = [[0,t_x1],[1,t_y],[0,t_x2],[0,t_max+0.1]]\n",
    "(stim, stim_t) = f.pop(0)\n",
    "\n",
    "for t in T:\n",
    "    if stim_t == t:\n",
    "        fi_IN = stim\n",
    "        f_IN = stim_gen(fi_IN)\n",
    "        (stim, stim_t) = f.pop(0)\n",
    "    else: \n",
    "        fi_IN = None\n",
    "        f_IN = None\n",
    "    P_sum = np.zeros(nf)\n",
    "    F = np.zeros([len(S),nf])\n",
    "    P = np.zeros([len(S),nf])\n",
    "    for i in range(len(S)):\n",
    "        (F[i], P[i]) = workers[i].update(dt=dt,fi_IN=fi_IN,f_IN=f_IN,P_smax=P_smax)        \n",
    "    P_smax = workers[0].P\n",
    "    P_sum = P_y.sum()\n",
    "    #if (t>t_x2)&(P_sum < e):\n",
    "        #print(\"Not Y predicted at %s\" %(t))\n",
    "    F_xtrack = np.row_stack((F_xtrack, F[:,0]))\n",
    "    P_ytrack = np.row_stack((P_ytrack, P[:,1]))\n",
    "F_xtrack = F_xtrack[1:,:]\n",
    "P_ytrack = P_ytrack[1:,:]"
   ]
  },
  {
   "cell_type": "code",
   "execution_count": 6,
   "id": "b2e4d0fb",
   "metadata": {},
   "outputs": [],
   "source": [
    "plt.imshow(F_xtrack[100:201,:].T)"
   ]
  },
  {
   "cell_type": "code",
   "execution_count": 7,
   "id": "ec3d0c2f",
   "metadata": {},
   "outputs": [],
   "source": [
    "#plt.imshow(P_ytrack[700:801,:].T)"
   ]
  }
 ],
 "metadata": {
  "kernelspec": {
   "display_name": "Python 3 (ipykernel)",
   "language": "python",
   "name": "python3"
  },
  "language_info": {
   "codemirror_mode": {
    "name": "ipython",
    "version": 3
   },
   "file_extension": ".py",
   "mimetype": "text/x-python",
   "name": "python",
   "nbconvert_exporter": "python",
   "pygments_lexer": "ipython3",
   "version": "3.10.6"
  }
 },
 "nbformat": 4,
 "nbformat_minor": 5
}
