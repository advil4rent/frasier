{
 "cells": [
  {
   "cell_type": "code",
   "execution_count": null,
   "id": "14047e5d",
   "metadata": {},
   "outputs": [],
   "source": [
    "import numpy as np"
   ]
  },
  {
   "cell_type": "code",
   "execution_count": null,
   "id": "2f14fdd1",
   "metadata": {},
   "outputs": [],
   "source": [
    "# no. of stimuli x2 for not-stimuli as well\n",
    "nf = 2*2\n",
    "stim = {\n",
    "    0:\"X\",\n",
    "    1:\"Y\",\n",
    "    2:\"NotX\",\n",
    "    3:\"NotY\"\n",
    "}\n",
    "# variables\n",
    "dt = 0.1\n",
    "a = 0.8"
   ]
  },
  {
   "cell_type": "code",
   "execution_count": null,
   "id": "712575fc",
   "metadata": {},
   "outputs": [],
   "source": [
    "#generate a range of s and tau_star\n",
    "def s_gen(tau_min=.1, tau_max=100., buff_max=None, k=20, ntau=50, g=0.0):\n",
    "    c = (tau_max/tau_min)**(1./(ntau-1))-1\n",
    "    tau_star = tau_min*(1+c)**np.arange(ntau).astype(float)\n",
    "    s = 1/tau_star\n",
    "    return [tau_star, s]\n",
    "[tau_star, S] = s_gen()"
   ]
  },
  {
   "cell_type": "code",
   "execution_count": null,
   "id": "9666b01f",
   "metadata": {},
   "outputs": [],
   "source": [
    "def stim_gen(i):\n",
    "    global nf\n",
    "    stim_vec = np.zeros(nf)\n",
    "    if i is not None:\n",
    "        stim_vec[i] = 1\n",
    "    return stim_vec"
   ]
  },
  {
   "cell_type": "code",
   "execution_count": 1,
   "id": "7a7f0f58",
   "metadata": {},
   "outputs": [],
   "source": [
    "def input_update(a,s,s_idx,fi_IN: None):\n",
    "    global M\n",
    "    global F\n",
    "    global P\n",
    "    f_IN = stim_gen(fi_IN)\n",
    "    #eq 1\n",
    "    F[s_idx] += -s*F[s_idx] + f_IN\n",
    "    F[s_idx] = np.where(F[s_idx]<0, 0, F[s_idx])\n",
    "    #eq 2\n",
    "    P_IN = np.dot(M[s_idx], f_IN)\n",
    "    #eq 3\n",
    "    P[s_idx] +=  s*P[s_idx] + P_IN# - P[-1]\n",
    "    \n",
    "    for past_stim in np.flatnonzero(F[s_idx]):\n",
    "        #eq4 - make sure we're indexing M correctly\n",
    "        M[s_idx][fi_IN, past_stim] = a * M[s_idx][fi_IN, past_stim] + (1-a) * F[s_idx][past_stim]\n",
    "def detect_notstim(a,t,s,s_idx,fi_IN:None):\n",
    "    global M\n",
    "    global F\n",
    "    global P\n",
    "    #find stimulis from the past that are still active\n",
    "    predicted = np.where(P[s_idx]>=1)[0]\n",
    "    #iterate through them\n",
    "    for p in predicted:\n",
    "        if p == fi_IN:\n",
    "            print(stim[p], \"Observed & Predicted with p=%s! at at s=%s and t=%s\"\n",
    "                  %(P[s_idx][p],s,t))\n",
    "            P[s_idx][p] = 0\n",
    "        else:\n",
    "            P[s_idx][p] = 0\n",
    "            if p < 2:\n",
    "                print(stim[p+2], \"predicted at s=%s and t=%s\" %(s,t))\n",
    "                #add 2 to get the not-stimuli equivalent\n",
    "                input_update(a,s,s_idx,fi_IN=p+2)\n",
    "            else:\n",
    "                print(stim[p], \"predicted at s=%s and t=%s\" %(s,t))\n",
    "                input_update(a,s,s_idx, fi_IN=p)\n",
    "def timestep_update(a,t,S,fi_IN: None):\n",
    "    for s_idx, s in enumerate(S):\n",
    "        input_update(a,s,s_idx,fi_IN)\n",
    "        detect_notstim(a,t,s,s_idx,fi_IN) "
   ]
  },
  {
   "cell_type": "code",
   "execution_count": null,
   "id": "d0677e68",
   "metadata": {},
   "outputs": [],
   "source": [
    "M = np.zeros([len(S), nf, nf])\n",
    "F = np.zeros([len(S), nf])\n",
    "P = np.zeros([len(S), nf])\n",
    "#alter this for different stimuli presentation at different times\n",
    "f = [[0,1],[1,3],[0,7],[0,10.1]]"
   ]
  },
  {
   "cell_type": "code",
   "execution_count": null,
   "id": "6edf8117",
   "metadata": {},
   "outputs": [],
   "source": [
    "T = np.arange(0,10, dt)\n",
    "fi_prev = None\n",
    "for t in T:\n",
    "    if f[0][1] == t:\n",
    "        fi_IN = f[0][0]\n",
    "        timestep_update(a,t,S,fi_IN=fi_IN)\n",
    "        f.pop(0)\n",
    "    else:\n",
    "        timestep_update(a,t,S,fi_IN=None)"
   ]
  },
  {
   "cell_type": "code",
   "execution_count": null,
   "id": "a372a9b6",
   "metadata": {},
   "outputs": [],
   "source": []
  }
 ],
 "metadata": {
  "kernelspec": {
   "display_name": "Python 3 (ipykernel)",
   "language": "python",
   "name": "python3"
  },
  "language_info": {
   "codemirror_mode": {
    "name": "ipython",
    "version": 3
   },
   "file_extension": ".py",
   "mimetype": "text/x-python",
   "name": "python",
   "nbconvert_exporter": "python",
   "pygments_lexer": "ipython3",
   "version": "3.10.4"
  }
 },
 "nbformat": 4,
 "nbformat_minor": 5
}
