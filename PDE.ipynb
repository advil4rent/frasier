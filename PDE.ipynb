{
 "cells": [
  {
   "cell_type": "markdown",
   "id": "a1697dda",
   "metadata": {},
   "source": [
    "$\\frac{\\partial^2 F}{\\partial t \\partial s} =  -F(s) -s \\partial F/\\partial s$\n",
    "\n",
    " #version of the PDE that evolves as a function of cell number, rather than s.\n",
    " \n",
    " Cell number $n = \\log_{1+c} s + \\log_{1+c}[s_1]$\n",
    " \n",
    " $dn/ds = 1/(s * log 1+c)$ \n",
    " \n",
    " $s = (1+c)^n = e^(n log 1+c)$ ; $ds/dn = log (1+c) s$ (as it should!)\n",
    " \n",
    " So, $\\partial/\\partial n = log (1+c) s \\partial / \\partial s = $ and \n",
    " $\\partial / \\partial s = 1/(s log 1+c)  \\partial/\\partial n$\n",
    " eq is:\n",
    " $1/(s * log(1+c) \\frac{\\partial^2 F}{\\partial t \\partial n} \n",
    " =  -F(s) - 1/log(1+c) \\partial F/\\partial n$\n",
    " \n",
    " or\n",
    " \n",
    " $\\frac{\\partial^2 F}{\\partial t \\partial n} =  -s log(1+c)F(s) -s\\partial F/\\partial n$"
   ]
  },
  {
   "cell_type": "markdown",
   "id": "a0ee69a3",
   "metadata": {},
   "source": [
    "$\\frac{\\partial^2 F}{\\partial t \\partial s} =  -F(s) -s \\partial F/\\partial s$"
   ]
  },
  {
   "cell_type": "code",
   "execution_count": 1,
   "id": "ae3351fb",
   "metadata": {},
   "outputs": [],
   "source": [
    "import numpy as np\n",
    "import matplotlib.pyplot as plt\n",
    "import pandas as pd\n",
    "import decimal\n",
    "from decimal import Decimal as Dc"
   ]
  },
  {
   "cell_type": "code",
   "execution_count": 2,
   "id": "3fb792a4",
   "metadata": {},
   "outputs": [],
   "source": [
    "Smin = 0.001\n",
    "c = 0.01\n",
    "ds = 0.01\n",
    "S = Smin*(1+c)**np.arange(1000)\n",
    "#S"
   ]
  },
  {
   "cell_type": "code",
   "execution_count": 31,
   "id": "a6dc7dd8",
   "metadata": {},
   "outputs": [],
   "source": [
    "delt_frac = 0.1\n",
    "dt = delt_frac / S[-1]\n",
    "ns = 100\n",
    "t_max = ns * dt\n",
    "T = np.arange(0,t_max,dt)"
   ]
  },
  {
   "cell_type": "code",
   "execution_count": 85,
   "id": "ddf7a77b",
   "metadata": {},
   "outputs": [],
   "source": [
    "def updateF(F,S,dt):\n",
    "    dlogs = 1\n",
    "    log1pc = np.log(1+c)\n",
    "    \n",
    "    partial = np.zeros(len(F))\n",
    "    rhs = np.zeros(len(F))\n",
    "    \n",
    "    partial[1:] = np.diff(F)\n",
    "    rhs[1:] = S[1:] * (F[1:] * log1pc * dlogs + partial[1:])\n",
    "    rhs = rhs*(-dt)\n",
    "    newF = np.zeros(len(F))\n",
    "    newF[0] = 1\n",
    "    for i in range(1, len(F)):\n",
    "        newF[i] = rhs[i] + newF[i-1] + (F[i] - F[i-1])\n",
    "    return newF"
   ]
  },
  {
   "cell_type": "code",
   "execution_count": 86,
   "id": "c5140d40",
   "metadata": {},
   "outputs": [],
   "source": [
    "F1 = np.full([len(S)],1)\n",
    "for t in T:\n",
    "    newF = updateF(F1,S,dt)\n",
    "    F1 = newF"
   ]
  },
  {
   "cell_type": "code",
   "execution_count": 87,
   "id": "de9a9ff9",
   "metadata": {},
   "outputs": [
    {
     "data": {
      "text/plain": [
       "<matplotlib.collections.PathCollection at 0x27b31890c10>"
      ]
     },
     "execution_count": 87,
     "metadata": {},
     "output_type": "execute_result"
    },
    {
     "data": {
      "image/png": "[encoded data removed]",
      "text/plain": [
       "<Figure size 640x480 with 1 Axes>"
      ]
     },
     "metadata": {},
     "output_type": "display_data"
    }
   ],
   "source": [
    "plt.scatter(F1,np.exp(-t_max*S))"
   ]
  },
  {
   "cell_type": "code",
   "execution_count": 59,
   "id": "fa2dc5e8",
   "metadata": {},
   "outputs": [
    {
     "data": {
      "text/plain": [
       "array([1.        , 0.99999511, 0.99999017, 0.99998518, 0.99998014])"
      ]
     },
     "execution_count": 59,
     "metadata": {},
     "output_type": "execute_result"
    }
   ],
   "source": [
    "F_rgen = pd.read_csv('R_generated_F.csv')['x'].to_numpy()\n",
    "F_rgen[:5]"
   ]
  }
 ],
 "metadata": {
  "kernelspec": {
   "display_name": "Python 3 (ipykernel)",
   "language": "python",
   "name": "python3"
  },
  "language_info": {
   "codemirror_mode": {
    "name": "ipython",
    "version": 3
   },
   "file_extension": ".py",
   "mimetype": "text/x-python",
   "name": "python",
   "nbconvert_exporter": "python",
   "pygments_lexer": "ipython3",
   "version": "3.10.7"
  }
 },
 "nbformat": 4,
 "nbformat_minor": 5
}
