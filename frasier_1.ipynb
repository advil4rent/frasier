{
 "cells": [
  {
   "cell_type": "code",
   "execution_count": 1,
   "id": "d14dc6de",
   "metadata": {},
   "outputs": [],
   "source": [
    "import objects as obj\n",
    "import torch\n",
    "import numpy as np\n",
    "import pandas as pd\n",
    "#import matplotlib as mpl\n",
    "#import matplotlib.pyplot as plt"
   ]
  },
  {
   "cell_type": "code",
   "execution_count": 7,
   "id": "72967d26",
   "metadata": {},
   "outputs": [
    {
     "data": {
      "text/plain": [
       "tensor([1.0000e-01, 1.1514e-01, 1.3257e-01, 1.5264e-01, 1.7575e-01, 2.0236e-01,\n",
       "        2.3300e-01, 2.6827e-01, 3.0888e-01, 3.5565e-01, 4.0949e-01, 4.7149e-01,\n",
       "        5.4287e-01, 6.2506e-01, 7.1969e-01, 8.2864e-01, 9.5410e-01, 1.0985e+00,\n",
       "        1.2649e+00, 1.4563e+00, 1.6768e+00, 1.9307e+00, 2.2230e+00, 2.5595e+00,\n",
       "        2.9471e+00, 3.3932e+00, 3.9069e+00, 4.4984e+00, 5.1795e+00, 5.9636e+00,\n",
       "        6.8665e+00, 7.9060e+00, 9.1030e+00, 1.0481e+01, 1.2068e+01, 1.3895e+01,\n",
       "        1.5999e+01, 1.8421e+01, 2.1210e+01, 2.4421e+01, 2.8118e+01, 3.2375e+01,\n",
       "        3.7276e+01, 4.2919e+01, 4.9417e+01, 5.6899e+01, 6.5513e+01, 7.5431e+01,\n",
       "        8.6851e+01, 1.0000e+02], dtype=torch.float64)"
      ]
     },
     "execution_count": 7,
     "metadata": {},
     "output_type": "execute_result"
    }
   ],
   "source": [
    "#initialize components\n",
    "sith_vals = obj.iSITH(k=20, dt=1)\n",
    "sith_vals.tau_star"
   ]
  },
  {
   "cell_type": "code",
   "execution_count": 11,
   "id": "493ff998",
   "metadata": {},
   "outputs": [],
   "source": [
    "alpha = torch.FloatTensor(np.arange(0,1,0.1))\n",
    "#M(s,a)\n",
    "mem_matrix = obj.mem_matrix(S=sith_vals.s, A=alpha)\n",
    "#F(s)\n",
    "context = obj.context(S=sith_vals.s)\n",
    "#P(s)\n",
    "transition = obj.transition(S=sith_vals.s)"
   ]
  },
  {
   "cell_type": "code",
   "execution_count": 17,
   "id": "d37617d4",
   "metadata": {},
   "outputs": [],
   "source": [
    "#simulate some input - \n",
    "f_t = [[3.00,0],[7.00,1]]\n",
    "\n",
    "def gen_input(t, nf=2):\n",
    "    global f_t\n",
    "    f_IN = np.zeros(nf)\n",
    "    if f_t[0][0] == t:\n",
    "        stim_loc = f_t[0][1]\n",
    "        f_IN[stim_loc] = 1\n",
    "        f_t.pop(0)\n",
    "    return f_IN"
   ]
  },
  {
   "cell_type": "code",
   "execution_count": 16,
   "id": "1b7d2486",
   "metadata": {},
   "outputs": [],
   "source": [
    "T = np.arange(0,10, 0.01)\n",
    "for t in T:\n",
    "    f_IN = gen_input(t)\n",
    "    #equation 1\n",
    "    context.time_update(f_IN)\n",
    "    #equation 4/5\n",
    "    mem_matrix.time_udpate(f_IN, ctx=context.F_pre)\n",
    "    #equation 2\n",
    "    transition.prob_input(M=mem_matrix.M, f_IN=f_IN)\n",
    "    #equation 3\n",
    "    transition.time_update()\n",
    "    #"
   ]
  },
  {
   "cell_type": "code",
   "execution_count": null,
   "id": "62e04450",
   "metadata": {},
   "outputs": [],
   "source": []
  }
 ],
 "metadata": {
  "kernelspec": {
   "display_name": "Python 3 (ipykernel)",
   "language": "python",
   "name": "python3"
  },
  "language_info": {
   "codemirror_mode": {
    "name": "ipython",
    "version": 3
   },
   "file_extension": ".py",
   "mimetype": "text/x-python",
   "name": "python",
   "nbconvert_exporter": "python",
   "pygments_lexer": "ipython3",
   "version": "3.10.4"
  }
 },
 "nbformat": 4,
 "nbformat_minor": 5
}
