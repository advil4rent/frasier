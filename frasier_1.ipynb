{
 "cells": [
  {
   "cell_type": "code",
   "execution_count": 11,
   "id": "d14dc6de",
   "metadata": {},
   "outputs": [],
   "source": [
    "import objects as obj\n",
    "import torch\n",
    "import numpy as np\n",
    "import pandas as pd\n",
    "#import matplotlib as mpl\n",
    "#import matplotlib.pyplot as plt"
   ]
  },
  {
   "cell_type": "code",
   "execution_count": 14,
   "id": "72967d26",
   "metadata": {},
   "outputs": [
    {
     "data": {
      "text/plain": [
       "tensor([10.0000,  8.6851,  7.5431,  6.5513,  5.6899,  4.9417,  4.2919,  3.7276,\n",
       "         3.2375,  2.8118,  2.4421,  2.1210,  1.8421,  1.5999,  1.3895,  1.2068,\n",
       "         1.0481,  0.9103,  0.7906,  0.6866,  0.5964,  0.5179,  0.4498,  0.3907,\n",
       "         0.3393,  0.2947,  0.2560,  0.2223,  0.1931,  0.1677,  0.1456,  0.1265,\n",
       "         0.1099,  0.0954,  0.0829,  0.0720,  0.0625,  0.0543,  0.0471,  0.0409,\n",
       "         0.0356,  0.0309,  0.0268,  0.0233,  0.0202,  0.0176,  0.0153,  0.0133,\n",
       "         0.0115,  0.0000], dtype=torch.float64)"
      ]
     },
     "execution_count": 14,
     "metadata": {},
     "output_type": "execute_result"
    }
   ],
   "source": [
    "#initialize components\n",
    "sith_vals = obj.iSITH(k=20, dt=0.01)\n",
    "sith_vals.s[-1] = np.float64(0)\n",
    "sith_vals.s"
   ]
  },
  {
   "cell_type": "code",
   "execution_count": 11,
   "id": "493ff998",
   "metadata": {},
   "outputs": [],
   "source": [
    "alpha = torch.FloatTensor(np.arange(0,1,0.1))\n",
    "#M(s,a)\n",
    "mem_matrix = obj.mem_matrix(S=sith_vals.s, A=alpha)\n",
    "#F(s)\n",
    "context = obj.context(S=sith_vals.s)\n",
    "#P(s)\n",
    "transition = obj.transition(S=sith_vals.s)"
   ]
  },
  {
   "cell_type": "code",
   "execution_count": 17,
   "id": "d37617d4",
   "metadata": {},
   "outputs": [],
   "source": [
    "#simulate some input - \n",
    "f_t = [[3.00,0],[7.00,1]]\n",
    "\n",
    "def gen_input(t, nf=2):\n",
    "    global f_t\n",
    "    f_IN = np.zeros(nf)\n",
    "    if f_t[0][0] == t:\n",
    "        stim_loc = f_t[0][1]\n",
    "        f_IN[stim_loc] = 1\n",
    "        f_t.pop(0)\n",
    "    return f_IN"
   ]
  },
  {
   "cell_type": "code",
   "execution_count": 16,
   "id": "1b7d2486",
   "metadata": {},
   "outputs": [],
   "source": [
    "T = np.arange(0,10, 0.01)\n",
    "for t in T:\n",
    "    f_IN = gen_input(t)\n",
    "    #equation 1\n",
    "    context.time_update(f_IN)\n",
    "    #equation 4/5\n",
    "    mem_matrix.time_udpate(f_IN, ctx=context.F_pre)\n",
    "    #equation 2\n",
    "    transition.prob_input(M=mem_matrix.M, f_IN=f_IN)\n",
    "    #equation 3\n",
    "    transition.time_update()\n",
    "    #"
   ]
  }
 ],
 "metadata": {
  "kernelspec": {
   "display_name": "Python 3 (ipykernel)",
   "language": "python",
   "name": "python3"
  },
  "language_info": {
   "codemirror_mode": {
    "name": "ipython",
    "version": 3
   },
   "file_extension": ".py",
   "mimetype": "text/x-python",
   "name": "python",
   "nbconvert_exporter": "python",
   "pygments_lexer": "ipython3",
   "version": "3.10.4"
  }
 },
 "nbformat": 4,
 "nbformat_minor": 5
}
