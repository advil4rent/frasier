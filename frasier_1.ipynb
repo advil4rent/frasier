{
 "cells": [
  {
   "cell_type": "code",
   "execution_count": 1,
   "id": "d14dc6de",
   "metadata": {},
   "outputs": [],
   "source": [
    "import objects as obj\n",
    "import torch\n",
    "import numpy as np\n",
    "import pandas as pd"
   ]
  },
  {
   "cell_type": "code",
   "execution_count": 2,
   "id": "72967d26",
   "metadata": {},
   "outputs": [],
   "source": [
    "#initialize components\n",
    "sith_vals = obj.iSITH(k=20)\n",
    "alpha = torch.FloatTensor(np.arange(0,1,0.1))\n",
    "mem_matrix = obj.mem_matrix(S=sith_vals.s, A=alpha)\n",
    "context = obj.context(S=sith_vals.s)\n",
    "transition = obj.transition(S=sith_vals.s)"
   ]
  },
  {
   "cell_type": "code",
   "execution_count": null,
   "id": "c2039772",
   "metadata": {},
   "outputs": [],
   "source": []
  }
 ],
 "metadata": {
  "kernelspec": {
   "display_name": "Python 3 (ipykernel)",
   "language": "python",
   "name": "python3"
  },
  "language_info": {
   "codemirror_mode": {
    "name": "ipython",
    "version": 3
   },
   "file_extension": ".py",
   "mimetype": "text/x-python",
   "name": "python",
   "nbconvert_exporter": "python",
   "pygments_lexer": "ipython3",
   "version": "3.10.7"
  }
 },
 "nbformat": 4,
 "nbformat_minor": 5
}
